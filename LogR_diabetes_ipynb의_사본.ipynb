{
  "nbformat": 4,
  "nbformat_minor": 0,
  "metadata": {
    "colab": {
      "name": "LogR_diabetes.ipynb의 사본",
      "provenance": [],
      "collapsed_sections": [],
      "authorship_tag": "ABX9TyMYSGtNbA5azBj7+OhE3XA9",
      "include_colab_link": true
    },
    "kernelspec": {
      "name": "python3",
      "display_name": "Python 3"
    }
  },
  "cells": [
    {
      "cell_type": "markdown",
      "metadata": {
        "id": "view-in-github",
        "colab_type": "text"
      },
      "source": [
        "<a href=\"https://colab.research.google.com/github/hydrol88/edu/blob/master/LogR_diabetes_ipynb%EC%9D%98_%EC%82%AC%EB%B3%B8.ipynb\" target=\"_parent\"><img src=\"https://colab.research.google.com/assets/colab-badge.svg\" alt=\"Open In Colab\"/></a>"
      ]
    },
    {
      "cell_type": "code",
      "metadata": {
        "id": "mBP9SDyCMnNb",
        "colab_type": "code",
        "colab": {
          "base_uri": "https://localhost:8080/",
          "height": 35
        },
        "outputId": "bab086c4-605f-4b81-db33-1c09014b398a"
      },
      "source": [
        "import tensorflow as tf\n",
        "import numpy as np\n",
        "tf.random.set_seed(777)  # 실행할때 마다 일정한 결과값 출력을 위한 Seed 설정\n",
        "print(\"TensorFlow ver\",format(tf.__version__)) # 2.2.0"
      ],
      "execution_count": null,
      "outputs": [
        {
          "output_type": "stream",
          "text": [
            "TensorFlow ver 2.3.0\n"
          ],
          "name": "stdout"
        }
      ]
    },
    {
      "cell_type": "code",
      "metadata": {
        "id": "xk4Wz-w3Mgct",
        "colab_type": "code",
        "colab": {
          "base_uri": "https://localhost:8080/",
          "height": 127
        },
        "outputId": "962723e8-5b4d-45dc-985d-c4d9cbab5555"
      },
      "source": [
        "from google.colab import drive\n",
        "drive.mount('/content/drive')"
      ],
      "execution_count": null,
      "outputs": [
        {
          "output_type": "stream",
          "text": [
            "Go to this URL in a browser: https://accounts.google.com/o/oauth2/auth?client_id=947318989803-6bn6qk8qdgf4n4g3pfee6491hc0brc4i.apps.googleusercontent.com&redirect_uri=urn%3aietf%3awg%3aoauth%3a2.0%3aoob&scope=email%20https%3a%2f%2fwww.googleapis.com%2fauth%2fdocs.test%20https%3a%2f%2fwww.googleapis.com%2fauth%2fdrive%20https%3a%2f%2fwww.googleapis.com%2fauth%2fdrive.photos.readonly%20https%3a%2f%2fwww.googleapis.com%2fauth%2fpeopleapi.readonly&response_type=code\n",
            "\n",
            "Enter your authorization code:\n",
            "··········\n",
            "Mounted at /content/drive\n"
          ],
          "name": "stdout"
        }
      ]
    },
    {
      "cell_type": "code",
      "metadata": {
        "id": "_MFXqptGMmHm",
        "colab_type": "code",
        "colab": {}
      },
      "source": [
        "xy = np.loadtxt('/content/drive/My Drive/data/data-03-diabetes.csv', delimiter=',', dtype=np.float32)\n",
        "x_train = xy[:, 0:-1]\n",
        "y_train = xy[:, [-1]]"
      ],
      "execution_count": null,
      "outputs": []
    },
    {
      "cell_type": "code",
      "metadata": {
        "id": "Hq9h3AW-NqNH",
        "colab_type": "code",
        "colab": {
          "base_uri": "https://localhost:8080/",
          "height": 305
        },
        "outputId": "e8a5360f-6157-4e21-e646-d8a6c9e4f957"
      },
      "source": [
        "print(x_train)"
      ],
      "execution_count": null,
      "outputs": [
        {
          "output_type": "stream",
          "text": [
            "[[ 0.411765   0.165829   0.213115   0.         0.        -0.23696\n",
            "  -0.894962  -0.7      ]\n",
            " [-0.647059  -0.21608   -0.180328  -0.353535  -0.791962  -0.0760059\n",
            "  -0.854825   0.833333 ]\n",
            " [ 0.176471   0.155779   0.         0.         0.         0.052161\n",
            "  -0.952178  -0.733333 ]\n",
            " [-0.764706   0.979899   0.147541  -0.0909091  0.283688  -0.0909091\n",
            "  -0.931682   0.0666667]\n",
            " [-0.0588235  0.256281   0.57377    0.         0.         0.\n",
            "  -0.868488   0.1      ]\n",
            " [-0.529412   0.105528   0.508197   0.         0.         0.120715\n",
            "  -0.903501  -0.7      ]\n",
            " [ 0.176471   0.688442   0.213115   0.         0.         0.132638\n",
            "  -0.608027  -0.566667 ]\n",
            " [ 0.176471   0.396985   0.311475   0.         0.        -0.19225\n",
            "   0.163962   0.2      ]]\n"
          ],
          "name": "stdout"
        }
      ]
    },
    {
      "cell_type": "code",
      "metadata": {
        "id": "uPCMqlHyOJRy",
        "colab_type": "code",
        "colab": {}
      },
      "source": [
        "x_test = [[0.476,0.588,0.131,0,-0.251,0.501,0.2132,-0.508]]\n",
        "y_test = [[1.]]"
      ],
      "execution_count": null,
      "outputs": []
    },
    {
      "cell_type": "code",
      "metadata": {
        "id": "E5aowxxYOUwj",
        "colab_type": "code",
        "colab": {}
      },
      "source": [
        "dataset = tf.data.Dataset.from_tensor_slices((x_train, y_train))"
      ],
      "execution_count": null,
      "outputs": []
    },
    {
      "cell_type": "code",
      "metadata": {
        "id": "9r_wrQYzOaX7",
        "colab_type": "code",
        "colab": {}
      },
      "source": [
        "W = tf.Variable(tf.random.normal([8,1]), name='weight')\n",
        "b = tf.Variable(tf.random.normal([1]), name='bias')"
      ],
      "execution_count": null,
      "outputs": []
    },
    {
      "cell_type": "code",
      "metadata": {
        "id": "egs7Zq-oOeTC",
        "colab_type": "code",
        "colab": {}
      },
      "source": [
        "optimizer = tf.keras.optimizers.SGD(learning_rate=0.01)"
      ],
      "execution_count": null,
      "outputs": []
    },
    {
      "cell_type": "code",
      "metadata": {
        "id": "0w6pUykSOjL6",
        "colab_type": "code",
        "colab": {}
      },
      "source": [
        "def logistic_regression(features):\n",
        " #hypothesis  = tf.divide(1., 1. + tf.exp(-tf.matmul(features, W) + b))\n",
        "    hypothesis = tf.sigmoid(tf.matmul(features, W) + b) \n",
        "    return hypothesis"
      ],
      "execution_count": null,
      "outputs": []
    },
    {
      "cell_type": "code",
      "metadata": {
        "id": "eRwDH80XOl4D",
        "colab_type": "code",
        "colab": {}
      },
      "source": [
        "def loss_fn(hypothesis, labels):\n",
        "    cost = -tf.reduce_mean(labels * tf.math.log(hypothesis) + (1 - labels) * tf.math.log(1 - hypothesis))\n",
        "    return cost"
      ],
      "execution_count": null,
      "outputs": []
    },
    {
      "cell_type": "code",
      "metadata": {
        "id": "cnYO1cGKOony",
        "colab_type": "code",
        "colab": {}
      },
      "source": [
        "def accuracy_fn(hypothesis, labels):\n",
        "    predicted = tf.cast(hypothesis > 0.5, dtype=tf.float32)\n",
        "    accuracy = tf.reduce_mean(tf.cast(tf.equal(predicted, labels), dtype=tf.int32))\n",
        "    return accuracy"
      ],
      "execution_count": null,
      "outputs": []
    },
    {
      "cell_type": "code",
      "metadata": {
        "id": "jAoaSYc_Oq4a",
        "colab_type": "code",
        "colab": {}
      },
      "source": [
        "def grad(features, labels):\n",
        "    with tf.GradientTape() as tape:\n",
        "        hypothesis = logistic_regression(features)\n",
        "        loss_value = loss_fn(hypothesis,labels)\n",
        "    return tape.gradient(loss_value, [W,b])"
      ],
      "execution_count": null,
      "outputs": []
    },
    {
      "cell_type": "code",
      "metadata": {
        "id": "5CZOIubGOtFq",
        "colab_type": "code",
        "colab": {}
      },
      "source": [
        "EPOCHS = 100000"
      ],
      "execution_count": null,
      "outputs": []
    },
    {
      "cell_type": "code",
      "metadata": {
        "id": "TMcs_A1wOvFq",
        "colab_type": "code",
        "colab": {
          "base_uri": "https://localhost:8080/",
          "height": 197
        },
        "outputId": "441c7d99-847d-4b92-d431-8b4a41ccd041"
      },
      "source": [
        "for step in range(EPOCHS):\n",
        "    for features, labels  in iter(dataset.batch(len(x_train))):\n",
        "        #print(dataset.batch(len(x_train)))\n",
        "        hypothesis = logistic_regression(features)\n",
        "        grads = grad(features, labels)\n",
        "        optimizer.apply_gradients(grads_and_vars=zip(grads,[W,b]))\n",
        "        if step % 10000 == 0:\n",
        "            predicted = tf.cast(hypothesis > 0.5, dtype=tf.float32)\n",
        "            accuracy = accuracy_fn(hypothesis, labels) \n",
        "            print(\"Iter: {}, Loss: {:.4f}, Accuracy: {}, Hypothesis: {:7.4f}, Predicted {:7.4f}\".format(step, loss_fn(hypothesis,labels), accuracy, hypothesis.numpy()[5][0], predicted.numpy()[5][0]))     "
      ],
      "execution_count": null,
      "outputs": [
        {
          "output_type": "stream",
          "text": [
            "Iter: 0, Loss: 0.2436, Accuracy: 1, Hypothesis:  0.7704, Predicted  1.0000\n",
            "Iter: 10000, Loss: 0.1596, Accuracy: 1, Hypothesis:  0.8495, Predicted  1.0000\n",
            "Iter: 20000, Loss: 0.1166, Accuracy: 1, Hypothesis:  0.8909, Predicted  1.0000\n",
            "Iter: 30000, Loss: 0.0910, Accuracy: 1, Hypothesis:  0.9153, Predicted  1.0000\n",
            "Iter: 40000, Loss: 0.0743, Accuracy: 1, Hypothesis:  0.9313, Predicted  1.0000\n",
            "Iter: 50000, Loss: 0.0627, Accuracy: 1, Hypothesis:  0.9423, Predicted  1.0000\n",
            "Iter: 60000, Loss: 0.0541, Accuracy: 1, Hypothesis:  0.9504, Predicted  1.0000\n",
            "Iter: 70000, Loss: 0.0475, Accuracy: 1, Hypothesis:  0.9566, Predicted  1.0000\n",
            "Iter: 80000, Loss: 0.0423, Accuracy: 1, Hypothesis:  0.9615, Predicted  1.0000\n",
            "Iter: 90000, Loss: 0.0382, Accuracy: 1, Hypothesis:  0.9654, Predicted  1.0000\n"
          ],
          "name": "stdout"
        }
      ]
    },
    {
      "cell_type": "code",
      "metadata": {
        "id": "R3GANsD3Ox3a",
        "colab_type": "code",
        "colab": {
          "base_uri": "https://localhost:8080/",
          "height": 71
        },
        "outputId": "e353eca1-f2ca-4365-db55-a494ba0d1323"
      },
      "source": [
        "accuracy = accuracy_fn(hypothesis, labels) \n",
        "print(\"Accuracy of Total Model: {}\".format(accuracy))\n",
        "test_acc = accuracy_fn(logistic_regression(x_test),y_test)\n",
        "print(\"Test Result = {}\".format(tf.cast(logistic_regression(x_test) > 0.5, dtype=tf.int32)))  \n",
        "print(\"Test Set Accuracy: {:.4f}\".format(test_acc))"
      ],
      "execution_count": null,
      "outputs": [
        {
          "output_type": "stream",
          "text": [
            "Accuracy of Total Model: 1\n",
            "Test Result = [[1]]\n",
            "Test Set Accuracy: 1.0000\n"
          ],
          "name": "stdout"
        }
      ]
    }
  ]
}