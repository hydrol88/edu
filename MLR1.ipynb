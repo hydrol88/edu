{
  "nbformat": 4,
  "nbformat_minor": 0,
  "metadata": {
    "colab": {
      "name": "MLR1.ipynb",
      "provenance": [],
      "collapsed_sections": [],
      "authorship_tag": "ABX9TyP+C+n0z4YHPmAms/G1TLNl",
      "include_colab_link": true
    },
    "kernelspec": {
      "name": "python3",
      "display_name": "Python 3"
    }
  },
  "cells": [
    {
      "cell_type": "markdown",
      "metadata": {
        "id": "view-in-github",
        "colab_type": "text"
      },
      "source": [
        "<a href=\"https://colab.research.google.com/github/hydrol88/edu/blob/master/MLR1.ipynb\" target=\"_parent\"><img src=\"https://colab.research.google.com/assets/colab-badge.svg\" alt=\"Open In Colab\"/></a>"
      ]
    },
    {
      "cell_type": "code",
      "metadata": {
        "id": "l3-hHLl-7iht",
        "colab_type": "code",
        "colab": {}
      },
      "source": [
        "import tensorflow as tf\n",
        "tf.executing_eagerly()\n",
        "tf.random.set_seed(777)  # 실행할때 마다 일정한 결과값 출력을 위한 Seed 설정"
      ],
      "execution_count": 5,
      "outputs": []
    },
    {
      "cell_type": "code",
      "metadata": {
        "id": "BmkL_FOc7pTY",
        "colab_type": "code",
        "colab": {}
      },
      "source": [
        "# data and label\n",
        "x1 = [ 73., 93., 89., 96., 73.]\n",
        "x2 = [ 80., 88., 91., 98., 66.]\n",
        "x3 = [ 75., 93., 90., 100., 70.]\n",
        "Y = [152., 185., 180., 196., 142.]"
      ],
      "execution_count": 6,
      "outputs": []
    },
    {
      "cell_type": "code",
      "metadata": {
        "id": "c2k6wBQZ7vUf",
        "colab_type": "code",
        "colab": {}
      },
      "source": [
        "# random weights\n",
        "w1 = tf.Variable(tf.random.normal([1]))\n",
        "w2 = tf.Variable(tf.random.normal([1]))\n",
        "w3 = tf.Variable(tf.random.normal([1]))\n",
        "b = tf.Variable(tf.random.normal([1]))"
      ],
      "execution_count": 7,
      "outputs": []
    },
    {
      "cell_type": "code",
      "metadata": {
        "id": "uBEN-2347xa2",
        "colab_type": "code",
        "colab": {}
      },
      "source": [
        "learning_rate = 0.00001"
      ],
      "execution_count": 8,
      "outputs": []
    },
    {
      "cell_type": "code",
      "metadata": {
        "id": "JwAVOjZd7zZ2",
        "colab_type": "code",
        "colab": {
          "base_uri": "https://localhost:8080/",
          "height": 233
        },
        "outputId": "82ce7b31-4a62-4476-ca6f-234a3af39e50"
      },
      "source": [
        "print(\"epoch |    cost    | hypothesis1| hypothesis2| hypothesis3| hypothesis4| hypothesis5|\") \n",
        "for i in range(10000+1):\n",
        "    # tf.GradientTape() to record the gradient of the cost function\n",
        "    with tf.GradientTape() as tape:\n",
        "        hypothesis = w1 * x1 + w2 * x2 + w3 * x3 + b\n",
        "        cost = tf.reduce_mean(tf.square(hypothesis - Y))\n",
        "        \n",
        "        # calculates the gradients of the cost\n",
        "        w1_grad, w2_grad, w3_grad, b_grad = tape.gradient(cost, [w1, w2, w3, b])\n",
        "        \n",
        "        # update w1,w2,w3 and b\n",
        "        w1.assign_sub(learning_rate * w1_grad)\n",
        "        w2.assign_sub(learning_rate * w2_grad)\n",
        "        w3.assign_sub(learning_rate * w3_grad)\n",
        "        b.assign_sub(learning_rate * b_grad)\n",
        "        \n",
        "        if i % 1000 == 0:\n",
        "             print(\"{:5} | {:10.4f} | {:10.4f} | {:10.4f} | {:10.4f} | {:10.4f} | {:10.4f} |\".format(i, cost.numpy(), \n",
        "             hypothesis.numpy()[0], hypothesis.numpy()[1], hypothesis.numpy()[2], hypothesis.numpy()[3], hypothesis.numpy()[4]))"
      ],
      "execution_count": 9,
      "outputs": [
        {
          "output_type": "stream",
          "text": [
            "epoch |    cost    | hypothesis1| hypothesis2| hypothesis3| hypothesis4| hypothesis5|\n",
            "    0 | 34547.7812 |   -20.2114 |    -8.9151 |   -16.9798 |   -17.2151 |    -3.6619 |\n",
            " 1000 |    12.3847 |   146.2240 |   188.1805 |   178.7567 |   195.7399 |   146.1027 |\n",
            " 2000 |     7.3294 |   147.4178 |   187.3641 |   179.1252 |   195.9857 |   145.0489 |\n",
            " 3000 |     4.3859 |   148.3303 |   186.7406 |   179.4074 |   196.1696 |   144.2478 |\n",
            " 4000 |     2.6706 |   149.0282 |   186.2642 |   179.6238 |   196.3063 |   143.6394 |\n",
            " 5000 |     1.6698 |   149.5624 |   185.8999 |   179.7899 |   196.4071 |   143.1777 |\n",
            " 6000 |     1.0847 |   149.9716 |   185.6213 |   179.9178 |   196.4807 |   142.8280 |\n",
            " 7000 |     0.7416 |   150.2857 |   185.4079 |   180.0163 |   196.5335 |   142.5637 |\n",
            " 8000 |     0.5393 |   150.5269 |   185.2443 |   180.0926 |   196.5705 |   142.3643 |\n",
            " 9000 |     0.4190 |   150.7127 |   185.1187 |   180.1518 |   196.5957 |   142.2144 |\n",
            "10000 |     0.3466 |   150.8561 |   185.0222 |   180.1979 |   196.6119 |   142.1022 |\n"
          ],
          "name": "stdout"
        }
      ]
    }
  ]
}