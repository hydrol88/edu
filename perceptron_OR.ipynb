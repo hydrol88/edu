{
  "nbformat": 4,
  "nbformat_minor": 0,
  "metadata": {
    "colab": {
      "name": "perceptron_OR.ipynb",
      "provenance": [],
      "collapsed_sections": [],
      "authorship_tag": "ABX9TyOPyuqb6i8fjnJ+WC0FsY1o",
      "include_colab_link": true
    },
    "kernelspec": {
      "name": "python3",
      "display_name": "Python 3"
    }
  },
  "cells": [
    {
      "cell_type": "markdown",
      "metadata": {
        "id": "view-in-github",
        "colab_type": "text"
      },
      "source": [
        "<a href=\"https://colab.research.google.com/github/hydrol88/edu/blob/master/perceptron_OR.ipynb\" target=\"_parent\"><img src=\"https://colab.research.google.com/assets/colab-badge.svg\" alt=\"Open In Colab\"/></a>"
      ]
    },
    {
      "cell_type": "markdown",
      "metadata": {
        "id": "pKwgQw9tGe7W",
        "colab_type": "text"
      },
      "source": [
        "# 퍼셉트론 \n",
        "# OR(논리곱) 게이트"
      ]
    },
    {
      "cell_type": "code",
      "metadata": {
        "id": "1WkrxzXoGW2W",
        "colab_type": "code",
        "colab": {}
      },
      "source": [
        "w1 = 1.0\n",
        "w2 = 1.0\n",
        "b = 0.0"
      ],
      "execution_count": null,
      "outputs": []
    },
    {
      "cell_type": "code",
      "metadata": {
        "id": "ntv-DQNHGiiO",
        "colab_type": "code",
        "colab": {}
      },
      "source": [
        "def perceptron(x1, x2):\n",
        "    y = w1 * x1 + w2 * x2 + b   \n",
        "    if y > 0.5:\n",
        "        return 1\n",
        "    else:\n",
        "        return 0"
      ],
      "execution_count": null,
      "outputs": []
    },
    {
      "cell_type": "code",
      "metadata": {
        "id": "ugAK5WkuGlos",
        "colab_type": "code",
        "colab": {
          "base_uri": "https://localhost:8080/",
          "height": 89
        },
        "outputId": "4c0079d4-fc28-4cba-963c-3810b08dd44f"
      },
      "source": [
        "for x1, x2 in [(0,0), (0,1), (1,0), (1,1)]:\n",
        "    print(\"입력: \", x1, x2, \" 출력\", perceptron(x1, x2))"
      ],
      "execution_count": null,
      "outputs": [
        {
          "output_type": "stream",
          "text": [
            "입력:  0 0  출력 0\n",
            "입력:  0 1  출력 1\n",
            "입력:  1 0  출력 1\n",
            "입력:  1 1  출력 1\n"
          ],
          "name": "stdout"
        }
      ]
    }
  ]
}