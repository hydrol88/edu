{
  "nbformat": 4,
  "nbformat_minor": 0,
  "metadata": {
    "colab": {
      "name": "MNIST_test.ipynb",
      "provenance": [],
      "collapsed_sections": [],
      "authorship_tag": "ABX9TyM4j3+ZRFG3YZSa0V++yki8",
      "include_colab_link": true
    },
    "kernelspec": {
      "name": "python3",
      "display_name": "Python 3"
    }
  },
  "cells": [
    {
      "cell_type": "markdown",
      "metadata": {
        "id": "view-in-github",
        "colab_type": "text"
      },
      "source": [
        "<a href=\"https://colab.research.google.com/github/hydrol88/edu/blob/master/MNIST_test.ipynb\" target=\"_parent\"><img src=\"https://colab.research.google.com/assets/colab-badge.svg\" alt=\"Open In Colab\"/></a>"
      ]
    },
    {
      "cell_type": "markdown",
      "metadata": {
        "id": "_WlqqeGdXpSq",
        "colab_type": "text"
      },
      "source": [
        "MNIST prediction"
      ]
    },
    {
      "cell_type": "code",
      "metadata": {
        "id": "qXZv3PIUXFH5",
        "colab_type": "code",
        "colab": {}
      },
      "source": [
        "import tensorflow as tf\n",
        "import numpy as np\n",
        "import matplotlib.pyplot as plt\n",
        "import os"
      ],
      "execution_count": null,
      "outputs": []
    },
    {
      "cell_type": "code",
      "metadata": {
        "id": "WT12h8wLXHlS",
        "colab_type": "code",
        "colab": {
          "base_uri": "https://localhost:8080/",
          "height": 35
        },
        "outputId": "70080fd1-cad2-4ea2-935f-fc7d7d415131"
      },
      "source": [
        "from google.colab import drive\n",
        "drive.mount('/content/drive')"
      ],
      "execution_count": null,
      "outputs": [
        {
          "output_type": "stream",
          "text": [
            "Drive already mounted at /content/drive; to attempt to forcibly remount, call drive.mount(\"/content/drive\", force_remount=True).\n"
          ],
          "name": "stdout"
        }
      ]
    },
    {
      "cell_type": "code",
      "metadata": {
        "id": "73hpo-XfXQvZ",
        "colab_type": "code",
        "colab": {
          "base_uri": "https://localhost:8080/",
          "height": 305
        },
        "outputId": "422444ec-7c76-4159-8c31-39b0df5a6406"
      },
      "source": [
        "#이전에 학습완료된 모델 불러오기\n",
        "#file_name = os.path.dirname(__file__) +'\\\\content\\\\MNISTmodel.h5'\n",
        "#test_dataset = h5py.File(file_name, \"r\")\n",
        "model = tf.keras.models.load_model('/content/drive/My Drive/data/MNISTmodel.h5')\n",
        "model.summary()"
      ],
      "execution_count": null,
      "outputs": [
        {
          "output_type": "stream",
          "text": [
            "Model: \"sequential\"\n",
            "_________________________________________________________________\n",
            "Layer (type)                 Output Shape              Param #   \n",
            "=================================================================\n",
            "flatten (Flatten)            (None, 784)               0         \n",
            "_________________________________________________________________\n",
            "dense (Dense)                (None, 125)               98125     \n",
            "_________________________________________________________________\n",
            "dropout (Dropout)            (None, 125)               0         \n",
            "_________________________________________________________________\n",
            "dense_1 (Dense)              (None, 10)                1260      \n",
            "=================================================================\n",
            "Total params: 99,385\n",
            "Trainable params: 99,385\n",
            "Non-trainable params: 0\n",
            "_________________________________________________________________\n"
          ],
          "name": "stdout"
        }
      ]
    },
    {
      "cell_type": "code",
      "metadata": {
        "id": "evujXtvJXZKS",
        "colab_type": "code",
        "colab": {}
      },
      "source": [
        "# new test data\n",
        "test_num = plt.imread('/content/drive/My Drive/data/Park.png')\n",
        "test_num = test_num[:,:,0]\n",
        "test_num = (test_num > 0.1) * test_num\n",
        "test_num = test_num.astype('float32')"
      ],
      "execution_count": null,
      "outputs": []
    },
    {
      "cell_type": "code",
      "metadata": {
        "id": "tRpPArArXiph",
        "colab_type": "code",
        "colab": {
          "base_uri": "https://localhost:8080/",
          "height": 265
        },
        "outputId": "0dcb47f5-c82d-4d54-90b9-768e405c19bf"
      },
      "source": [
        "# plt.imshow(test_num, cmap =\"Greys\", interpolation='nearest')\n",
        "plt.imshow(test_num, cmap =\"Greys\", interpolation='nearest')\n",
        "test_num = test_num.reshape((1, 28, 28, 1))"
      ],
      "execution_count": null,
      "outputs": [
        {
          "output_type": "display_data",
          "data": {
            "image/png": "[encoded data removed]",
            "text/plain": [
              "<Figure size 432x288 with 1 Axes>"
            ]
          },
          "metadata": {
            "tags": [],
            "needs_background": "light"
          }
        }
      ]
    },
    {
      "cell_type": "code",
      "metadata": {
        "id": "1mlvT57SXk2p",
        "colab_type": "code",
        "colab": {
          "base_uri": "https://localhost:8080/",
          "height": 109
        },
        "outputId": "166df776-70ea-49fb-aabc-f14771bdc4ef"
      },
      "source": [
        "plt.show()\n",
        "print('당신이 쓴 숫자는', model.predict_classes(test_num),'입니다')"
      ],
      "execution_count": null,
      "outputs": [
        {
          "output_type": "stream",
          "text": [
            "WARNING:tensorflow:From <ipython-input-23-ca83eff5842c>:2: Sequential.predict_classes (from tensorflow.python.keras.engine.sequential) is deprecated and will be removed after 2021-01-01.\n",
            "Instructions for updating:\n",
            "Please use instead:* `np.argmax(model.predict(x), axis=-1)`,   if your model does multi-class classification   (e.g. if it uses a `softmax` last-layer activation).* `(model.predict(x) > 0.5).astype(\"int32\")`,   if your model does binary classification   (e.g. if it uses a `sigmoid` last-layer activation).\n",
            "당신이 쓴 숫자는 [4] 입니다\n"
          ],
          "name": "stdout"
        }
      ]
    }
  ]
}