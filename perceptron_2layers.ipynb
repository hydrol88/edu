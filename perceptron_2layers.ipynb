{
  "nbformat": 4,
  "nbformat_minor": 0,
  "metadata": {
    "colab": {
      "name": "perceptron_2layers.ipynb",
      "provenance": [],
      "collapsed_sections": [],
      "authorship_tag": "ABX9TyMi71lcfC+KNZEmo17PSsZj",
      "include_colab_link": true
    },
    "kernelspec": {
      "name": "python3",
      "display_name": "Python 3"
    }
  },
  "cells": [
    {
      "cell_type": "markdown",
      "metadata": {
        "id": "view-in-github",
        "colab_type": "text"
      },
      "source": [
        "<a href=\"https://colab.research.google.com/github/hydrol88/edu/blob/master/perceptron_2layers.ipynb\" target=\"_parent\"><img src=\"https://colab.research.google.com/assets/colab-badge.svg\" alt=\"Open In Colab\"/></a>"
      ]
    },
    {
      "cell_type": "markdown",
      "metadata": {
        "id": "Wo7kmMJDHfAm",
        "colab_type": "text"
      },
      "source": [
        "# 2 layers와 2개의 병렬로 연결한 펜센트론\n",
        "# (XOR 문제 해결 )"
      ]
    },
    {
      "cell_type": "code",
      "metadata": {
        "id": "qAHpBYO7HeZr",
        "colab_type": "code",
        "colab": {}
      },
      "source": [
        "def perceptron1(x1, x2):\n",
        "    w1 = 5\n",
        "    w2 = 5\n",
        "    b = -8\n",
        "    y1 = w1 * x1 + w2 * x2 + b   \n",
        "    if y1 > 0.5:\n",
        "        y1 = 1\n",
        "        return y1\n",
        "    else:\n",
        "        y1 = 0\n",
        "        return y1"
      ],
      "execution_count": 1,
      "outputs": []
    },
    {
      "cell_type": "code",
      "metadata": {
        "id": "KXXHmJK9Hiw9",
        "colab_type": "code",
        "colab": {}
      },
      "source": [
        "def perceptron2(x1, x2):\n",
        "    w1 = -7\n",
        "    w2 = -7\n",
        "    b = 3\n",
        "    y2 = w1 * x1 + w2 * x2 + b   \n",
        "    if y2 > 0.5:\n",
        "        y2 = 1\n",
        "        return y2\n",
        "    else:\n",
        "        y2 = 0\n",
        "        return y2"
      ],
      "execution_count": 2,
      "outputs": []
    },
    {
      "cell_type": "code",
      "metadata": {
        "id": "3c9u1DS4HkWU",
        "colab_type": "code",
        "colab": {}
      },
      "source": [
        "def perceptron3( y1, y2):\n",
        "    w1 = -11\n",
        "    w2 = -11\n",
        "    b = 6\n",
        "    y3 = w1 * x1 + w2 * x2 + b   \n",
        "    if y3 > 0.5:\n",
        "        y3 = 1\n",
        "        return y3\n",
        "    else:\n",
        "        y3 = 0\n",
        "        return y3"
      ],
      "execution_count": 3,
      "outputs": []
    },
    {
      "cell_type": "code",
      "metadata": {
        "id": "o1JFtKFKHmAE",
        "colab_type": "code",
        "colab": {
          "base_uri": "https://localhost:8080/",
          "height": 89
        },
        "outputId": "a235c760-6e15-4920-f96e-cc11ecca48c9"
      },
      "source": [
        "for x1, x2 in [(0,0), (0,1), (1,0), (1,1)]:\n",
        "    y1 = perceptron1(x1,x2)\n",
        "    y2 = perceptron2(x1,x2)\n",
        "    y3 = perceptron2(y1,y2)\n",
        "    print(\"입력: \", x1, x2, \" 출력\", y3)"
      ],
      "execution_count": 4,
      "outputs": [
        {
          "output_type": "stream",
          "text": [
            "입력:  0 0  출력 0\n",
            "입력:  0 1  출력 1\n",
            "입력:  1 0  출력 1\n",
            "입력:  1 1  출력 0\n"
          ],
          "name": "stdout"
        }
      ]
    }
  ]
}