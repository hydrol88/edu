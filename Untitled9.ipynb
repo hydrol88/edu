{
  "nbformat": 4,
  "nbformat_minor": 0,
  "metadata": {
    "colab": {
      "name": "Untitled9.ipynb",
      "provenance": [],
      "collapsed_sections": [],
      "authorship_tag": "ABX9TyOoahhlLtCIPzNidH8UAFGB",
      "include_colab_link": true
    },
    "kernelspec": {
      "name": "python3",
      "display_name": "Python 3"
    }
  },
  "cells": [
    {
      "cell_type": "markdown",
      "metadata": {
        "id": "view-in-github",
        "colab_type": "text"
      },
      "source": [
        "<a href=\"https://colab.research.google.com/github/hydrol88/edu/blob/master/Untitled9.ipynb\" target=\"_parent\"><img src=\"https://colab.research.google.com/assets/colab-badge.svg\" alt=\"Open In Colab\"/></a>"
      ]
    },
    {
      "cell_type": "code",
      "metadata": {
        "id": "72v001psTxSs",
        "colab_type": "code",
        "colab": {
          "base_uri": "https://localhost:8080/",
          "height": 35
        },
        "outputId": "4249ba2a-b50f-4e78-ce80-c37eea58e11d"
      },
      "source": [
        "import tensorflow as tf\n",
        "import numpy as np\n",
        "print(\"TensorFlow ver\",format(tf.__version__))\n",
        "tf.random.set_seed(777)  # for reproducibility"
      ],
      "execution_count": 1,
      "outputs": [
        {
          "output_type": "stream",
          "text": [
            "TensorFlow ver 2.3.0\n"
          ],
          "name": "stdout"
        }
      ]
    },
    {
      "cell_type": "code",
      "metadata": {
        "id": "HzkfSktUUC2S",
        "colab_type": "code",
        "colab": {
          "base_uri": "https://localhost:8080/",
          "height": 127
        },
        "outputId": "0473bad2-76b3-411b-9200-ae1df8c843a7"
      },
      "source": [
        "from google.colab import drive\n",
        "drive.mount('/content/drive')"
      ],
      "execution_count": 4,
      "outputs": [
        {
          "output_type": "stream",
          "text": [
            "Go to this URL in a browser: https://accounts.google.com/o/oauth2/auth?client_id=947318989803-6bn6qk8qdgf4n4g3pfee6491hc0brc4i.apps.googleusercontent.com&redirect_uri=urn%3aietf%3awg%3aoauth%3a2.0%3aoob&scope=email%20https%3a%2f%2fwww.googleapis.com%2fauth%2fdocs.test%20https%3a%2f%2fwww.googleapis.com%2fauth%2fdrive%20https%3a%2f%2fwww.googleapis.com%2fauth%2fdrive.photos.readonly%20https%3a%2f%2fwww.googleapis.com%2fauth%2fpeopleapi.readonly&response_type=code\n",
            "\n",
            "Enter your authorization code:\n",
            "··········\n",
            "Mounted at /content/drive\n"
          ],
          "name": "stdout"
        }
      ]
    },
    {
      "cell_type": "code",
      "metadata": {
        "id": "AVfI3QxHT-WE",
        "colab_type": "code",
        "colab": {}
      },
      "source": [
        "xy = np.loadtxt('/content/drive/My Drive/data/data-04-zoo.csv', delimiter=',', dtype=np.float32)\n",
        "x_data = xy[:, 0:-1]\n",
        "y_data = xy[:, -1]"
      ],
      "execution_count": 6,
      "outputs": []
    },
    {
      "cell_type": "code",
      "metadata": {
        "id": "Lw2tpUeDT_gB",
        "colab_type": "code",
        "colab": {}
      },
      "source": [
        "# The number of animals\n",
        "nb_classes = 7  # 0 ~ 6 "
      ],
      "execution_count": 7,
      "outputs": []
    },
    {
      "cell_type": "code",
      "metadata": {
        "id": "LH0q_-saUAqy",
        "colab_type": "code",
        "colab": {}
      },
      "source": [
        "# Make Y data as one-hot shape\n",
        "Y_one_hot = tf.one_hot(y_data.astype(np.int32), nb_classes)\n",
        "#print(x_data.shape, Y_one_hot.shape)"
      ],
      "execution_count": 8,
      "outputs": []
    },
    {
      "cell_type": "code",
      "metadata": {
        "id": "FNY8_zGRUpQ7",
        "colab_type": "code",
        "colab": {}
      },
      "source": [
        "X = x_data\n",
        "Y = Y_one_hot"
      ],
      "execution_count": 9,
      "outputs": []
    },
    {
      "cell_type": "code",
      "metadata": {
        "id": "PwQEZw6fUrbC",
        "colab_type": "code",
        "colab": {}
      },
      "source": [
        "#Weight and bias setting\n",
        "W = tf.Variable(tf.random.normal((16, nb_classes)), name='weight')\n",
        "b = tf.Variable(tf.random.normal((nb_classes,)), name='bias')\n",
        "variables = [W, b]"
      ],
      "execution_count": 10,
      "outputs": []
    },
    {
      "cell_type": "code",
      "metadata": {
        "id": "tWdMRPjZUwt6",
        "colab_type": "code",
        "colab": {}
      },
      "source": [
        "def logit_fn(X):\n",
        "    return tf.matmul(X, W) + b"
      ],
      "execution_count": 11,
      "outputs": []
    },
    {
      "cell_type": "code",
      "metadata": {
        "id": "FyyeMAwPU1dC",
        "colab_type": "code",
        "colab": {}
      },
      "source": [
        "def hypothesis(X):\n",
        "    return tf.nn.softmax(logit_fn(X))"
      ],
      "execution_count": 12,
      "outputs": []
    },
    {
      "cell_type": "code",
      "metadata": {
        "id": "KS-dpYp7U30q",
        "colab_type": "code",
        "colab": {}
      },
      "source": [
        "def cost_fn(X, Y):\n",
        "    logits = hypothesis(X)\n",
        "    cost = -tf.reduce_sum(Y * tf.math.log(logits), axis=1)\n",
        "    cost_mean = tf.reduce_mean(cost)\n",
        "    return cost_mean"
      ],
      "execution_count": 13,
      "outputs": []
    },
    {
      "cell_type": "code",
      "metadata": {
        "id": "wstU5QqKU5zx",
        "colab_type": "code",
        "colab": {}
      },
      "source": [
        "def grad_fn(X, Y):\n",
        "    with tf.GradientTape() as tape:\n",
        "        loss = cost_fn(X, Y)\n",
        "        grads = tape.gradient(loss, variables)\n",
        "        return grads"
      ],
      "execution_count": 14,
      "outputs": []
    },
    {
      "cell_type": "code",
      "metadata": {
        "id": "TGnaTGuJU7vp",
        "colab_type": "code",
        "colab": {}
      },
      "source": [
        "def prediction(X, Y):\n",
        "    pred = tf.argmax(hypothesis(X), 1)\n",
        "    correct_prediction = tf.equal(pred, tf.argmax(Y, 1))\n",
        "    accuracy = tf.reduce_mean(tf.cast(correct_prediction, tf.float32))\n",
        "    return accuracy"
      ],
      "execution_count": 15,
      "outputs": []
    },
    {
      "cell_type": "code",
      "metadata": {
        "id": "YCaVLdNnU9sx",
        "colab_type": "code",
        "colab": {}
      },
      "source": [
        "epochs=10000"
      ],
      "execution_count": 16,
      "outputs": []
    },
    {
      "cell_type": "code",
      "metadata": {
        "id": "uqCkVpMlU_bZ",
        "colab_type": "code",
        "colab": {}
      },
      "source": [
        "optimizer =  tf.keras.optimizers.SGD(learning_rate=0.1)"
      ],
      "execution_count": 17,
      "outputs": []
    },
    {
      "cell_type": "code",
      "metadata": {
        "id": "sFuu0A1GVBZx",
        "colab_type": "code",
        "colab": {
          "base_uri": "https://localhost:8080/",
          "height": 197
        },
        "outputId": "b02cd1dd-87af-43cf-a9fa-b386544f0e28"
      },
      "source": [
        "for i in range(epochs):\n",
        "    grads = grad_fn(X, Y)\n",
        "    optimizer.apply_gradients(zip(grads, variables))\n",
        "    if i % 1000 == 0:\n",
        "#        print('Loss at epoch %d: %f' %(i+1, cost_fn(X, Y).numpy()))\n",
        "        acc = prediction(X, Y).numpy()\n",
        "        loss = cost_fn(X, Y).numpy() \n",
        "        print('Steps: {} |  Loss: {:8.5f} |  Accuracy: {:8.5f} |'.format(i, loss, acc))"
      ],
      "execution_count": 18,
      "outputs": [
        {
          "output_type": "stream",
          "text": [
            "Steps: 0 |  Loss:  2.44858 |  Accuracy:  0.17647 |\n",
            "Steps: 1000 |  Loss:  0.01086 |  Accuracy:  1.00000 |\n",
            "Steps: 2000 |  Loss:  0.00549 |  Accuracy:  1.00000 |\n",
            "Steps: 3000 |  Loss:  0.00369 |  Accuracy:  1.00000 |\n",
            "Steps: 4000 |  Loss:  0.00278 |  Accuracy:  1.00000 |\n",
            "Steps: 5000 |  Loss:  0.00223 |  Accuracy:  1.00000 |\n",
            "Steps: 6000 |  Loss:  0.00187 |  Accuracy:  1.00000 |\n",
            "Steps: 7000 |  Loss:  0.00161 |  Accuracy:  1.00000 |\n",
            "Steps: 8000 |  Loss:  0.00141 |  Accuracy:  1.00000 |\n",
            "Steps: 9000 |  Loss:  0.00126 |  Accuracy:  1.00000 |\n"
          ],
          "name": "stdout"
        }
      ]
    },
    {
      "cell_type": "code",
      "metadata": {
        "id": "WXXWzHahVDnp",
        "colab_type": "code",
        "colab": {}
      },
      "source": [
        "# Prediction: The data of test animal \n",
        "sample_data_x = [[0,1,1,0,1,0,1,0,1,1,0,0,2,1,0,0]]\n",
        "sample_data_x = np.asarray(sample_data_x, dtype=np.float32)"
      ],
      "execution_count": 20,
      "outputs": []
    },
    {
      "cell_type": "code",
      "metadata": {
        "id": "mqn90IPxVNEJ",
        "colab_type": "code",
        "colab": {
          "base_uri": "https://localhost:8080/",
          "height": 35
        },
        "outputId": "2503316e-ac07-4012-cf13-31b0254639a1"
      },
      "source": [
        "a = hypothesis(sample_data_x)\n",
        "sample_animal = tf.argmax(a, 1) # One-hot Encoding (index: 0 or 1)\n",
        "print(\"This animal will expected to {}\".format(sample_animal))"
      ],
      "execution_count": 21,
      "outputs": [
        {
          "output_type": "stream",
          "text": [
            "This animal will expected to [1]\n"
          ],
          "name": "stdout"
        }
      ]
    },
    {
      "cell_type": "code",
      "metadata": {
        "id": "C3xKQErtVQ9a",
        "colab_type": "code",
        "colab": {}
      },
      "source": [
        ""
      ],
      "execution_count": null,
      "outputs": []
    }
  ]
}