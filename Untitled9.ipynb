{
  "nbformat": 4,
  "nbformat_minor": 0,
  "metadata": {
    "colab": {
      "name": "Untitled9.ipynb",
      "provenance": [],
      "collapsed_sections": [],
      "authorship_tag": "ABX9TyPzOfAHLDOIqxe6NfMEanVJ",
      "include_colab_link": true
    },
    "kernelspec": {
      "name": "python3",
      "display_name": "Python 3"
    }
  },
  "cells": [
    {
      "cell_type": "markdown",
      "metadata": {
        "id": "view-in-github",
        "colab_type": "text"
      },
      "source": [
        "<a href=\"https://colab.research.google.com/github/hydrol88/edu/blob/master/Untitled9.ipynb\" target=\"_parent\"><img src=\"https://colab.research.google.com/assets/colab-badge.svg\" alt=\"Open In Colab\"/></a>"
      ]
    },
    {
      "cell_type": "code",
      "metadata": {
        "id": "utLT4bZOTIai",
        "colab_type": "code",
        "colab": {}
      },
      "source": [
        "import tensorflow as tf\n",
        "import numpy as np\n",
        "import matplotlib.pyplot as plt"
      ],
      "execution_count": 1,
      "outputs": []
    },
    {
      "cell_type": "code",
      "metadata": {
        "id": "KAj_68w9TJbL",
        "colab_type": "code",
        "colab": {}
      },
      "source": [
        "X = np.array([1,2,3])\n",
        "Y = np.array([1,2,3])"
      ],
      "execution_count": 2,
      "outputs": []
    },
    {
      "cell_type": "code",
      "metadata": {
        "id": "-zqxS1X8TLZC",
        "colab_type": "code",
        "colab": {}
      },
      "source": [
        "def cost_function(W,X,Y):\n",
        "# Cost function \n",
        "    hypothesis = X * W\n",
        "    return tf.reduce_mean(tf.square(hypothesis - Y))"
      ],
      "execution_count": 3,
      "outputs": []
    },
    {
      "cell_type": "code",
      "metadata": {
        "id": "qq745NDlTNeJ",
        "colab_type": "code",
        "colab": {}
      },
      "source": [
        "# Variables for plotting cost function\n",
        "W_val = []\n",
        "cost_val = []"
      ],
      "execution_count": 4,
      "outputs": []
    },
    {
      "cell_type": "code",
      "metadata": {
        "id": "a94WNK5OTPYp",
        "colab_type": "code",
        "colab": {}
      },
      "source": [
        "W_values = np.linspace(-3, 5, num=15)"
      ],
      "execution_count": 5,
      "outputs": []
    },
    {
      "cell_type": "code",
      "metadata": {
        "id": "Kd_WCHC5TS6J",
        "colab_type": "code",
        "colab": {
          "base_uri": "https://localhost:8080/",
          "height": 287
        },
        "outputId": "50816ffc-e2cd-43c0-b3d4-420f9b6116d3"
      },
      "source": [
        "for feed_W in W_values:\n",
        "    curr_cost = cost_function(feed_W, X, Y)\n",
        "    print('{:6.3f} | {:10.5f}'.format(feed_W, curr_cost))\n",
        "    \n",
        "    # Save the W and Cost \n",
        "    W_val.append(feed_W)\n",
        "    cost_val.append(curr_cost)"
      ],
      "execution_count": 6,
      "outputs": [
        {
          "output_type": "stream",
          "text": [
            "-3.000 |   74.66667\n",
            "-2.429 |   54.85714\n",
            "-1.857 |   38.09524\n",
            "-1.286 |   24.38095\n",
            "-0.714 |   13.71429\n",
            "-0.143 |    6.09524\n",
            " 0.429 |    1.52381\n",
            " 1.000 |    0.00000\n",
            " 1.571 |    1.52381\n",
            " 2.143 |    6.09524\n",
            " 2.714 |   13.71429\n",
            " 3.286 |   24.38095\n",
            " 3.857 |   38.09524\n",
            " 4.429 |   54.85714\n",
            " 5.000 |   74.66667\n"
          ],
          "name": "stdout"
        }
      ]
    },
    {
      "cell_type": "code",
      "metadata": {
        "id": "Ap4aV0N5TVZK",
        "colab_type": "code",
        "colab": {
          "base_uri": "https://localhost:8080/",
          "height": 295
        },
        "outputId": "ef71ca7d-5b20-4645-d2cc-984208814f30"
      },
      "source": [
        "# Show the cost function\n",
        "plt.plot(W_val, cost_val) \n",
        "plt.xlabel('W'), plt.ylabel('Cost'), plt.title('W-Cost function')\n",
        "plt.show()"
      ],
      "execution_count": 7,
      "outputs": [
        {
          "output_type": "display_data",
          "data": {
            "image/png": "[encoded data removed]",
            "text/plain": [
              "<Figure size 432x288 with 1 Axes>"
            ]
          },
          "metadata": {
            "tags": [],
            "needs_background": "light"
          }
        }
      ]
    },
    {
      "cell_type": "code",
      "metadata": {
        "id": "lP1BxYtgTXni",
        "colab_type": "code",
        "colab": {}
      },
      "source": [
        ""
      ],
      "execution_count": null,
      "outputs": []
    }
  ]
}