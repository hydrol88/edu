{
  "nbformat": 4,
  "nbformat_minor": 0,
  "metadata": {
    "colab": {
      "name": "LR2.ipynb",
      "provenance": [],
      "collapsed_sections": [],
      "authorship_tag": "ABX9TyOxejx0jwmZB2uj5r4i1Ut7",
      "include_colab_link": true
    },
    "kernelspec": {
      "name": "python3",
      "display_name": "Python 3"
    }
  },
  "cells": [
    {
      "cell_type": "markdown",
      "metadata": {
        "id": "view-in-github",
        "colab_type": "text"
      },
      "source": [
        "<a href=\"https://colab.research.google.com/github/hydrol88/edu/blob/master/LR2.ipynb\" target=\"_parent\"><img src=\"https://colab.research.google.com/assets/colab-badge.svg\" alt=\"Open In Colab\"/></a>"
      ]
    },
    {
      "cell_type": "code",
      "metadata": {
        "id": "zxin6UXK57HO",
        "colab_type": "code",
        "colab": {
          "base_uri": "https://localhost:8080/",
          "height": 35
        },
        "outputId": "3df0fada-a41d-4511-cdc4-722969690ae2"
      },
      "source": [
        "import tensorflow as tf\n",
        "import numpy as np\n",
        "tf.executing_eagerly()"
      ],
      "execution_count": 31,
      "outputs": [
        {
          "output_type": "execute_result",
          "data": {
            "text/plain": [
              "True"
            ]
          },
          "metadata": {
            "tags": []
          },
          "execution_count": 31
        }
      ]
    },
    {
      "cell_type": "code",
      "metadata": {
        "id": "Kao0ypnk58bo",
        "colab_type": "code",
        "colab": {}
      },
      "source": [
        "tf.random.set_seed(777) # for reproducibility"
      ],
      "execution_count": 32,
      "outputs": []
    },
    {
      "cell_type": "code",
      "metadata": {
        "id": "lZ1Lhc415_jX",
        "colab_type": "code",
        "colab": {}
      },
      "source": [
        "X = [1., 2., 3., 4.]\n",
        "Y = [1., 2., 3., 4.]\n",
        "\n",
        "W = tf.Variable(tf.random.normal([1],-100,100))"
      ],
      "execution_count": 33,
      "outputs": []
    },
    {
      "cell_type": "code",
      "metadata": {
        "id": "cbZHY7lB6Tkv",
        "colab_type": "code",
        "colab": {
          "base_uri": "https://localhost:8080/",
          "height": 35
        },
        "outputId": "b15c5f62-548b-41ce-ac63-68f7a5b7ede2"
      },
      "source": [
        "print(W.numpy())"
      ],
      "execution_count": 34,
      "outputs": [
        {
          "output_type": "stream",
          "text": [
            "[-22.935188]\n"
          ],
          "name": "stdout"
        }
      ]
    },
    {
      "cell_type": "code",
      "metadata": {
        "id": "uctTp_YY6EYH",
        "colab_type": "code",
        "colab": {
          "base_uri": "https://localhost:8080/",
          "height": 557
        },
        "outputId": "f0c34123-fc18-4f19-9d48-6feff3fe9201"
      },
      "source": [
        "for step in range(300):\n",
        "    hypothesis = W * X\n",
        "    cost = tf.reduce_mean(tf.square(hypothesis - Y))\n",
        "\n",
        "    alpha = 0.01\n",
        "    gradient = tf.reduce_mean(tf.multiply(tf.multiply(W, X) - Y, X))\n",
        "    descent = W - tf.multiply(alpha, gradient)\n",
        "    W.assign(descent)\n",
        "\n",
        "    if step % 10 == 0:\n",
        "        print('{:5d} | {:10.4f} | {:10.6f}'.format(step, W.numpy()[0], cost.numpy()))"
      ],
      "execution_count": 35,
      "outputs": [
        {
          "output_type": "stream",
          "text": [
            "    0 |   -21.1400 | 4296.699219\n",
            "   10 |    -9.1530 | 903.586304\n",
            "   20 |    -3.6560 | 190.022186\n",
            "   30 |    -1.1352 |  39.961243\n",
            "   40 |     0.0209 |   8.403761\n",
            "   50 |     0.5510 |   1.767292\n",
            "   60 |     0.7941 |   0.371657\n",
            "   70 |     0.9056 |   0.078159\n",
            "   80 |     0.9567 |   0.016437\n",
            "   90 |     0.9801 |   0.003457\n",
            "  100 |     0.9909 |   0.000727\n",
            "  110 |     0.9958 |   0.000153\n",
            "  120 |     0.9981 |   0.000032\n",
            "  130 |     0.9991 |   0.000007\n",
            "  140 |     0.9996 |   0.000001\n",
            "  150 |     0.9998 |   0.000000\n",
            "  160 |     0.9999 |   0.000000\n",
            "  170 |     1.0000 |   0.000000\n",
            "  180 |     1.0000 |   0.000000\n",
            "  190 |     1.0000 |   0.000000\n",
            "  200 |     1.0000 |   0.000000\n",
            "  210 |     1.0000 |   0.000000\n",
            "  220 |     1.0000 |   0.000000\n",
            "  230 |     1.0000 |   0.000000\n",
            "  240 |     1.0000 |   0.000000\n",
            "  250 |     1.0000 |   0.000000\n",
            "  260 |     1.0000 |   0.000000\n",
            "  270 |     1.0000 |   0.000000\n",
            "  280 |     1.0000 |   0.000000\n",
            "  290 |     1.0000 |   0.000000\n"
          ],
          "name": "stdout"
        }
      ]
    }
  ]
}