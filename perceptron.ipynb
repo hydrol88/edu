{
  "nbformat": 4,
  "nbformat_minor": 0,
  "metadata": {
    "colab": {
      "name": "perceptron.ipynb",
      "provenance": [],
      "collapsed_sections": [],
      "authorship_tag": "ABX9TyM/aVu0hAoQHNfqcFjJjNZp",
      "include_colab_link": true
    },
    "kernelspec": {
      "name": "python3",
      "display_name": "Python 3"
    }
  },
  "cells": [
    {
      "cell_type": "markdown",
      "metadata": {
        "id": "view-in-github",
        "colab_type": "text"
      },
      "source": [
        "<a href=\"https://colab.research.google.com/github/hydrol88/edu/blob/master/perceptron.ipynb\" target=\"_parent\"><img src=\"https://colab.research.google.com/assets/colab-badge.svg\" alt=\"Open In Colab\"/></a>"
      ]
    },
    {
      "cell_type": "markdown",
      "metadata": {
        "id": "U4gGzDg3FTQO",
        "colab_type": "text"
      },
      "source": [
        "# 퍼셉트론 논리게이트"
      ]
    },
    {
      "cell_type": "code",
      "metadata": {
        "id": "X3Nq9UlBFQjf",
        "colab_type": "code",
        "colab": {}
      },
      "source": [
        "w1 = 1\n",
        "w2 = 1\n",
        "b = 1"
      ],
      "execution_count": 1,
      "outputs": []
    },
    {
      "cell_type": "code",
      "metadata": {
        "id": "-XV7MZlXFU_W",
        "colab_type": "code",
        "colab": {}
      },
      "source": [
        "def perceptron(x1, x2):\n",
        "    y = w1 * x1 + w2 * x2 + b   \n",
        "    if y > 0.5:\n",
        "        return 1\n",
        "    else:\n",
        "        return 0"
      ],
      "execution_count": 2,
      "outputs": []
    },
    {
      "cell_type": "code",
      "metadata": {
        "id": "YcAmhJfnFYdV",
        "colab_type": "code",
        "colab": {
          "base_uri": "https://localhost:8080/",
          "height": 89
        },
        "outputId": "6002e3b0-5d79-43b3-84ea-e767e97808bb"
      },
      "source": [
        "for x1, x2 in [(0,0), (0,1), (1,0), (1,1)]:\n",
        "    print(\"입력: \", x1, x2, \" 출력\", perceptron(x1, x2))"
      ],
      "execution_count": 3,
      "outputs": [
        {
          "output_type": "stream",
          "text": [
            "입력:  0 0  출력 1\n",
            "입력:  0 1  출력 1\n",
            "입력:  1 0  출력 1\n",
            "입력:  1 1  출력 1\n"
          ],
          "name": "stdout"
        }
      ]
    }
  ]
}