{
  "nbformat": 4,
  "nbformat_minor": 0,
  "metadata": {
    "colab": {
      "name": "perceptron_AND.ipynb",
      "provenance": [],
      "collapsed_sections": [],
      "authorship_tag": "ABX9TyPpZ+ZIZ8IqDSxZRgyFMjeD",
      "include_colab_link": true
    },
    "kernelspec": {
      "name": "python3",
      "display_name": "Python 3"
    }
  },
  "cells": [
    {
      "cell_type": "markdown",
      "metadata": {
        "id": "view-in-github",
        "colab_type": "text"
      },
      "source": [
        "<a href=\"https://colab.research.google.com/github/hydrol88/edu/blob/master/perceptron_AND.ipynb\" target=\"_parent\"><img src=\"https://colab.research.google.com/assets/colab-badge.svg\" alt=\"Open In Colab\"/></a>"
      ]
    },
    {
      "cell_type": "markdown",
      "metadata": {
        "id": "x9v5m8S9GDje",
        "colab_type": "text"
      },
      "source": [
        "# 퍼셉트론 \n",
        "# AND(논리곱) 게이트"
      ]
    },
    {
      "cell_type": "code",
      "metadata": {
        "id": "EpE4s8x6FzD9",
        "colab_type": "code",
        "colab": {}
      },
      "source": [
        "w1 = 0.5\n",
        "w2 = 0.5\n",
        "b = 0.0"
      ],
      "execution_count": 2,
      "outputs": []
    },
    {
      "cell_type": "code",
      "metadata": {
        "id": "Z3pOZYKOGAVn",
        "colab_type": "code",
        "colab": {}
      },
      "source": [
        "def perceptron(x1, x2):\n",
        "    y = w1 * x1 + w2 * x2 + b   \n",
        "    if y > 0.5:\n",
        "        return 1\n",
        "    else:\n",
        "        return 0"
      ],
      "execution_count": 3,
      "outputs": []
    },
    {
      "cell_type": "code",
      "metadata": {
        "id": "TEprRyR3GJOl",
        "colab_type": "code",
        "colab": {
          "base_uri": "https://localhost:8080/",
          "height": 89
        },
        "outputId": "25e66f0b-08e7-4d05-bf87-1c76ef96b8b1"
      },
      "source": [
        "for x1, x2 in [(0,0), (0,1), (1,0), (1,1)]:\n",
        "    print(\"입력: \", x1, x2, \" 출력\", perceptron(x1, x2))"
      ],
      "execution_count": 4,
      "outputs": [
        {
          "output_type": "stream",
          "text": [
            "입력:  0 0  출력 0\n",
            "입력:  0 1  출력 0\n",
            "입력:  1 0  출력 0\n",
            "입력:  1 1  출력 1\n"
          ],
          "name": "stdout"
        }
      ]
    }
  ]
}