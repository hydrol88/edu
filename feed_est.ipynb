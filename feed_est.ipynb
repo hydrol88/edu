{
  "nbformat": 4,
  "nbformat_minor": 0,
  "metadata": {
    "colab": {
      "name": "feed_est.ipynb",
      "provenance": [],
      "collapsed_sections": [],
      "authorship_tag": "ABX9TyPhRpJau204FpkywC1gcyZk",
      "include_colab_link": true
    },
    "kernelspec": {
      "name": "python3",
      "display_name": "Python 3"
    }
  },
  "cells": [
    {
      "cell_type": "markdown",
      "metadata": {
        "id": "view-in-github",
        "colab_type": "text"
      },
      "source": [
        "<a href=\"https://colab.research.google.com/github/hydrol88/edu/blob/master/feed_est.ipynb\" target=\"_parent\"><img src=\"https://colab.research.google.com/assets/colab-badge.svg\" alt=\"Open In Colab\"/></a>"
      ]
    },
    {
      "cell_type": "markdown",
      "metadata": {
        "id": "QuulG-6v_Zz3",
        "colab_type": "text"
      },
      "source": [
        "배추가격 예측 AI 로봇 만들기"
      ]
    },
    {
      "cell_type": "code",
      "metadata": {
        "id": "qH-Pnv4HBAim",
        "colab_type": "code",
        "colab": {
          "base_uri": "https://localhost:8080/",
          "height": 35
        },
        "outputId": "5ea6b361-267c-4c94-d70c-ba4db203e532"
      },
      "source": [
        "### Google 드라이브에 있는 파일 업로드 하기\n",
        "# Google 드라이브 import하기\n",
        "from google.colab import drive\n",
        "drive.mount('/content/drive')"
      ],
      "execution_count": 31,
      "outputs": [
        {
          "output_type": "stream",
          "text": [
            "Drive already mounted at /content/drive; to attempt to forcibly remount, call drive.mount(\"/content/drive\", force_remount=True).\n"
          ],
          "name": "stdout"
        }
      ]
    },
    {
      "cell_type": "code",
      "metadata": {
        "id": "5jkQy2C7_RKL",
        "colab_type": "code",
        "colab": {}
      },
      "source": [
        "import tensorflow as tf\n",
        "import numpy as np\n",
        "tf.executing_eagerly()\n",
        "tf.random.set_seed(777)  # 실행할때 마다 일정한 결과값 출력을 위한 Seed 설정"
      ],
      "execution_count": 32,
      "outputs": []
    },
    {
      "cell_type": "code",
      "metadata": {
        "id": "qhPTgim0_iDE",
        "colab_type": "code",
        "colab": {}
      },
      "source": [
        "# 자료 저장위치는 왼쪽의 폴러에서 저장된 directory 찾아서 링크\n",
        "xy = np.loadtxt('/content/drive/My Drive/Colab Notebooks/data_food_est.csv', delimiter=',', dtype=np.float32)"
      ],
      "execution_count": 33,
      "outputs": []
    },
    {
      "cell_type": "code",
      "metadata": {
        "id": "jthTcSyi_kd9",
        "colab_type": "code",
        "colab": {}
      },
      "source": [
        "# slicing data\n",
        "X = xy[:, 0:-1]\n",
        "Y = xy[:, [-1]]"
      ],
      "execution_count": 42,
      "outputs": []
    },
    {
      "cell_type": "code",
      "metadata": {
        "id": "j-e4UCVGHyh0",
        "colab_type": "code",
        "colab": {}
      },
      "source": [
        "W = tf.Variable(tf.random.normal([4, 1]))\n",
        "b = tf.Variable(tf.random.normal([1]))"
      ],
      "execution_count": 38,
      "outputs": []
    },
    {
      "cell_type": "code",
      "metadata": {
        "id": "KppLJahbHBWX",
        "colab_type": "code",
        "colab": {}
      },
      "source": [
        "learning_rate = 0.001\n",
        "n_epochs = 50000"
      ],
      "execution_count": 39,
      "outputs": []
    },
    {
      "cell_type": "code",
      "metadata": {
        "id": "1FhLX1ZkHaRs",
        "colab_type": "code",
        "colab": {}
      },
      "source": [
        "# hypothesis, prediction function\n",
        "def predict(X):\n",
        "    hypothesis = tf.matmul(X, W) + b\n",
        "    return hypothesis "
      ],
      "execution_count": 40,
      "outputs": []
    },
    {
      "cell_type": "code",
      "metadata": {
        "id": "k6D34ty7HeJM",
        "colab_type": "code",
        "colab": {
          "base_uri": "https://localhost:8080/",
          "height": 215
        },
        "outputId": "15caee2d-1585-4a27-ff9c-0f50db9a5d34"
      },
      "source": [
        "for i in range(n_epochs+1):\n",
        "    # record the gradient of the cost function\n",
        "    with tf.GradientTape() as tape: \n",
        "        hypothesis = predict(X)\n",
        "        cost = tf.reduce_mean((tf.square(hypothesis - Y)))\n",
        "        # calculates the gradients of the loss\n",
        "        W_grad, b_grad = tape.gradient(cost, [W, b])\n",
        "        # updates parameters (W and b)\n",
        "        W.assign_sub(learning_rate * W_grad)\n",
        "        b.assign_sub(learning_rate * b_grad)\n",
        "        \n",
        "        if i % 5000 == 0: \n",
        "             print(\"{:5} | 비용 {:10.4e} | 배추가격 {:10.4f} |\".format(i, cost.numpy(), hypothesis.numpy()[0][0]))"
      ],
      "execution_count": 41,
      "outputs": [
        {
          "output_type": "stream",
          "text": [
            "    0 | 비용 1.2596e+07 | 배추가격    -4.5404 |\n",
            " 5000 | 비용 1.9783e+06 | 배추가격  2620.8953 |\n",
            "10000 | 비용 1.8916e+06 | 배추가격  2717.1150 |\n",
            "15000 | 비용 1.8540e+06 | 배추가격  2780.4678 |\n",
            "20000 | 비용 1.8378e+06 | 배추가격  2822.1531 |\n",
            "25000 | 비용 1.8307e+06 | 배추가격  2849.5815 |\n",
            "30000 | 비용 1.8277e+06 | 배추가격  2867.6313 |\n",
            "35000 | 비용 1.8264e+06 | 배추가격  2879.5066 |\n",
            "40000 | 비용 1.8258e+06 | 배추가격  2887.3225 |\n",
            "45000 | 비용 1.8256e+06 | 배추가격  2892.4619 |\n",
            "50000 | 비용 1.8255e+06 | 배추가격  2895.8425 |\n"
          ],
          "name": "stdout"
        }
      ]
    },
    {
      "cell_type": "code",
      "metadata": {
        "id": "E0jFa8bDHj3t",
        "colab_type": "code",
        "colab": {}
      },
      "source": [
        ""
      ],
      "execution_count": null,
      "outputs": []
    }
  ]
}